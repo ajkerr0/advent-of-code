{
 "cells": [
  {
   "cell_type": "code",
   "execution_count": 1,
   "metadata": {},
   "outputs": [],
   "source": [
    "import numpy as np"
   ]
  },
  {
   "cell_type": "code",
   "execution_count": 2,
   "metadata": {},
   "outputs": [],
   "source": [
    "inps = open('input').read().split('\\n')"
   ]
  },
  {
   "cell_type": "code",
   "execution_count": 3,
   "metadata": {},
   "outputs": [],
   "source": [
    "seqs = []\n",
    "for inp in inps[:]:\n",
    "    seqs.append([int(x) for x in inp.split()])\n",
    "seqs = np.array(seqs[:-1])"
   ]
  },
  {
   "cell_type": "code",
   "execution_count": 4,
   "metadata": {},
   "outputs": [
    {
     "data": {
      "text/plain": [
       "1806615041"
      ]
     },
     "execution_count": 4,
     "metadata": {},
     "output_type": "execute_result"
    }
   ],
   "source": [
    "adds = []\n",
    "for seq in seqs[:]:\n",
    "\n",
    "    diff = seq\n",
    "    diffs = [seq]\n",
    "    while True:\n",
    "        diff = np.diff(diff)\n",
    "\n",
    "        if np.product(diff == 0):\n",
    "            break\n",
    "\n",
    "        diffs.append(diff)\n",
    "        \n",
    "    add = 0\n",
    "    for diff in diffs[::-1]:\n",
    "        add = diff[-1] + add\n",
    "    adds.append(add)\n",
    "np.sum(adds)"
   ]
  },
  {
   "cell_type": "markdown",
   "metadata": {},
   "source": [
    "## Part 2"
   ]
  },
  {
   "cell_type": "code",
   "execution_count": 5,
   "metadata": {},
   "outputs": [
    {
     "data": {
      "text/plain": [
       "1211"
      ]
     },
     "execution_count": 5,
     "metadata": {},
     "output_type": "execute_result"
    }
   ],
   "source": [
    "adds = []\n",
    "for seq in seqs[:]:\n",
    "\n",
    "    diff = seq\n",
    "    diffs = [seq]\n",
    "    while True:\n",
    "        diff = np.diff(diff)\n",
    "\n",
    "        if np.product(diff == 0):\n",
    "            break\n",
    "\n",
    "        diffs.append(diff)\n",
    "        \n",
    "    add = 0\n",
    "    for diff in diffs[::-1]:\n",
    "        add = diff[0] - add\n",
    "    adds.append(add)\n",
    "np.sum(adds)"
   ]
  }
 ],
 "metadata": {
  "kernelspec": {
   "display_name": "Python 3 (ipykernel)",
   "language": "python",
   "name": "python3"
  },
  "language_info": {
   "codemirror_mode": {
    "name": "ipython",
    "version": 3
   },
   "file_extension": ".py",
   "mimetype": "text/x-python",
   "name": "python",
   "nbconvert_exporter": "python",
   "pygments_lexer": "ipython3",
   "version": "3.8.6"
  }
 },
 "nbformat": 4,
 "nbformat_minor": 4
}
