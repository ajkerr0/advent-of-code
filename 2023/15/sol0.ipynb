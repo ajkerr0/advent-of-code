{
 "cells": [
  {
   "cell_type": "code",
   "execution_count": 1,
   "metadata": {},
   "outputs": [],
   "source": [
    "inps = open('input').read().splitlines()[0].split(',')"
   ]
  },
  {
   "cell_type": "code",
   "execution_count": 2,
   "metadata": {},
   "outputs": [
    {
     "data": {
      "text/plain": [
       "514639"
      ]
     },
     "execution_count": 2,
     "metadata": {},
     "output_type": "execute_result"
    }
   ],
   "source": [
    "add = 0\n",
    "for s in inps:\n",
    "    val = 0\n",
    "    for c in s:\n",
    "        val += ord(c)\n",
    "        val *= 17\n",
    "        val = val % 256\n",
    "    add += val\n",
    "add"
   ]
  },
  {
   "cell_type": "markdown",
   "metadata": {},
   "source": [
    "## Part 2"
   ]
  },
  {
   "cell_type": "code",
   "execution_count": 3,
   "metadata": {},
   "outputs": [],
   "source": [
    "def hasha(s):\n",
    "    val = 0\n",
    "    for c in s:\n",
    "        val += ord(c)\n",
    "        val *= 17\n",
    "        val = val % 256\n",
    "    return val"
   ]
  },
  {
   "cell_type": "code",
   "execution_count": 4,
   "metadata": {},
   "outputs": [],
   "source": [
    "class Lens:\n",
    "\n",
    "    def __init__(self, flen, label):\n",
    "        self.flen = flen\n",
    "        self.label = label\n",
    "\n",
    "    def __repr__(self):\n",
    "        return 'Lens({}, {})'.format(self.flen, self.label)"
   ]
  },
  {
   "cell_type": "code",
   "execution_count": 5,
   "metadata": {},
   "outputs": [],
   "source": [
    "boxes = [[] for i in range(256)]\n",
    "print_ = False\n",
    "for s in inps[:]:\n",
    "\n",
    "    if '=' in s:\n",
    "        idx = s.index('=')\n",
    "        label = s[:idx]\n",
    "        box_idx = hasha(label)\n",
    "        flen = int(s[idx+1:])\n",
    "\n",
    "        # check for same label in box\n",
    "        same_label = False\n",
    "        for i, l in enumerate(boxes[box_idx]):\n",
    "            if l.label == label:\n",
    "                # remove the old lens and remove\n",
    "                boxes[box_idx][i] = Lens(flen, label)\n",
    "                same_label = True\n",
    "                break\n",
    "\n",
    "        if not same_label:\n",
    "            boxes[box_idx].append(Lens(flen, label))\n",
    "    elif '-' in s:\n",
    "        idx = s.index('-')\n",
    "        label = s[:idx]\n",
    "        box_idx = hasha(label)\n",
    "        for i, l in enumerate(boxes[box_idx]):\n",
    "            if l.label == label:\n",
    "                boxes[box_idx].pop(i)\n",
    "\n",
    "    if print_:\n",
    "        print('\\nAfter \"{}\":'.format(s))\n",
    "        for i, box in enumerate(boxes):\n",
    "            if box:\n",
    "                ps = 'Box {}:'.format(i)\n",
    "                for l in box:\n",
    "                    ps += ' [{} {}]'.format(l.label, l.flen)\n",
    "                print(ps)"
   ]
  },
  {
   "cell_type": "code",
   "execution_count": 6,
   "metadata": {},
   "outputs": [
    {
     "data": {
      "text/plain": [
       "279470"
      ]
     },
     "execution_count": 6,
     "metadata": {},
     "output_type": "execute_result"
    }
   ],
   "source": [
    "add = 0\n",
    "for i, box in enumerate(boxes):\n",
    "    for j, l in enumerate(box):\n",
    "        add += (i+1)*(j+1)*l.flen\n",
    "add"
   ]
  }
 ],
 "metadata": {
  "kernelspec": {
   "display_name": "Python 3 (ipykernel)",
   "language": "python",
   "name": "python3"
  },
  "language_info": {
   "codemirror_mode": {
    "name": "ipython",
    "version": 3
   },
   "file_extension": ".py",
   "mimetype": "text/x-python",
   "name": "python",
   "nbconvert_exporter": "python",
   "pygments_lexer": "ipython3",
   "version": "3.8.6"
  }
 },
 "nbformat": 4,
 "nbformat_minor": 4
}
