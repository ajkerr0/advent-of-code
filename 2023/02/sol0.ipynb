{
 "cells": [
  {
   "cell_type": "code",
   "execution_count": 1,
   "metadata": {},
   "outputs": [],
   "source": [
    "import csv\n",
    "import re\n",
    "\n",
    "import numpy as np\n",
    "import pandas as pd"
   ]
  },
  {
   "cell_type": "code",
   "execution_count": 2,
   "metadata": {},
   "outputs": [],
   "source": [
    "def rgb(hand):\n",
    "    red = re.search(r'(\\d{1,3}) red', hand)\n",
    "    if red is None:\n",
    "        red = 0\n",
    "    else:\n",
    "        red = int(red[1])\n",
    "\n",
    "    green = re.search(r'(\\d{1,3}) green', hand)\n",
    "    if green is None:\n",
    "        green = 0\n",
    "    else:\n",
    "        green = int(green[1])\n",
    "\n",
    "\n",
    "    blue = re.search(r'(\\d{1,3}) blue', hand)\n",
    "    if blue is None:\n",
    "        blue = 0\n",
    "    else:\n",
    "        blue = int(blue[1])\n",
    "\n",
    "    return red, green, blue"
   ]
  },
  {
   "cell_type": "code",
   "execution_count": 3,
   "metadata": {},
   "outputs": [],
   "source": [
    "res = []\n",
    "\n",
    "with open('input') as f:\n",
    "    reader = csv.reader(f, delimiter=';')\n",
    "    for i, row in enumerate(reader):\n",
    "\n",
    "        game = i + 1\n",
    "        for j, hand in enumerate(row):\n",
    "            if j == 0:\n",
    "                hand = hand.split(':',1)[1]\n",
    "\n",
    "            hand_num = j + 1\n",
    "            red, green, blue = rgb(hand)\n",
    "\n",
    "            subres = pd.DataFrame({\n",
    "                'game': [game],\n",
    "                'hand': [hand_num],\n",
    "                'red_count': [red],\n",
    "                'green_count': [green],\n",
    "                'blue_count': [blue]\n",
    "                })\n",
    "\n",
    "            res.append(subres)"
   ]
  },
  {
   "cell_type": "code",
   "execution_count": 4,
   "metadata": {},
   "outputs": [],
   "source": [
    "df = pd.concat(res)"
   ]
  },
  {
   "cell_type": "code",
   "execution_count": 5,
   "metadata": {},
   "outputs": [
    {
     "data": {
      "text/plain": [
       "2617"
      ]
     },
     "execution_count": 5,
     "metadata": {},
     "output_type": "execute_result"
    }
   ],
   "source": [
    "np.sum(df.groupby('game').max().query('red_count <= 12').query('green_count <= 13').query('blue_count <= 14').index)"
   ]
  },
  {
   "cell_type": "markdown",
   "metadata": {},
   "source": [
    "## Part 2"
   ]
  },
  {
   "cell_type": "code",
   "execution_count": 6,
   "metadata": {},
   "outputs": [
    {
     "data": {
      "text/plain": [
       "59795"
      ]
     },
     "execution_count": 6,
     "metadata": {},
     "output_type": "execute_result"
    }
   ],
   "source": [
    "np.sum(np.product(df.groupby('game').max()[['red_count', 'green_count', 'blue_count']], axis=1))"
   ]
  }
 ],
 "metadata": {
  "kernelspec": {
   "display_name": "Python 3 (ipykernel)",
   "language": "python",
   "name": "python3"
  },
  "language_info": {
   "codemirror_mode": {
    "name": "ipython",
    "version": 3
   },
   "file_extension": ".py",
   "mimetype": "text/x-python",
   "name": "python",
   "nbconvert_exporter": "python",
   "pygments_lexer": "ipython3",
   "version": "3.8.6"
  }
 },
 "nbformat": 4,
 "nbformat_minor": 4
}
