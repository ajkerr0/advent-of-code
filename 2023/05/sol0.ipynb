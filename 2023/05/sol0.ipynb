{
 "cells": [
  {
   "cell_type": "code",
   "execution_count": 1,
   "metadata": {},
   "outputs": [],
   "source": [
    "import re\n",
    "\n",
    "import numpy as np"
   ]
  },
  {
   "cell_type": "code",
   "execution_count": 2,
   "metadata": {},
   "outputs": [],
   "source": [
    "inps = open('input').read().split('\\n\\n')"
   ]
  },
  {
   "cell_type": "code",
   "execution_count": 3,
   "metadata": {},
   "outputs": [],
   "source": [
    "seeds = [int(x) for x in re.findall(r'\\d+', inps[0])]"
   ]
  },
  {
   "cell_type": "code",
   "execution_count": 4,
   "metadata": {},
   "outputs": [],
   "source": [
    "maps = [[list(map(int, y)) for y in [x.split(' ') for x in re.findall(r'(\\d+ \\d+ \\d+)', inp)]] for inp in inps[1:]]"
   ]
  },
  {
   "cell_type": "code",
   "execution_count": 5,
   "metadata": {},
   "outputs": [],
   "source": [
    "def seed2loc(seed):\n",
    "    start = seed\n",
    "    for map in maps:\n",
    "        for d, s, r in map:\n",
    "            if (start >= s)*(start < s + r):\n",
    "                start = start - s + d\n",
    "                break\n",
    "    return start"
   ]
  },
  {
   "cell_type": "code",
   "execution_count": 6,
   "metadata": {},
   "outputs": [
    {
     "data": {
      "text/plain": [
       "1181555926"
      ]
     },
     "execution_count": 6,
     "metadata": {},
     "output_type": "execute_result"
    }
   ],
   "source": [
    "locs = []\n",
    "for seed in seeds:\n",
    "    locs.append(seed2loc(seed))\n",
    "np.min(locs)"
   ]
  },
  {
   "cell_type": "markdown",
   "metadata": {},
   "source": [
    "## Part 2"
   ]
  },
  {
   "cell_type": "code",
   "execution_count": 7,
   "metadata": {},
   "outputs": [],
   "source": [
    "ranges = np.array(seeds).reshape(len(seeds)//2, 2)"
   ]
  },
  {
   "cell_type": "code",
   "execution_count": 8,
   "metadata": {},
   "outputs": [
    {
     "data": {
      "text/plain": [
       "1917300386"
      ]
     },
     "execution_count": 8,
     "metadata": {},
     "output_type": "execute_result"
    }
   ],
   "source": [
    "np.sum(ranges[:,1])"
   ]
  },
  {
   "cell_type": "markdown",
   "metadata": {},
   "source": [
    "Doing brute force... not proud of it.\n",
    "\n",
    "I figure ~100M evaluations will be better than 2B, so doing mapping in reverse."
   ]
  },
  {
   "cell_type": "code",
   "execution_count": 9,
   "metadata": {},
   "outputs": [],
   "source": [
    "def loc2seed(loc):\n",
    "    start = loc\n",
    "    for map in maps[::-1]:\n",
    "        for d, s, r in map:\n",
    "            if (start >=d)*(start < d + r):\n",
    "                start = start - d + s\n",
    "                break\n",
    "    return start"
   ]
  },
  {
   "cell_type": "code",
   "execution_count": 10,
   "metadata": {},
   "outputs": [],
   "source": [
    "starts = ranges[:,0]\n",
    "stops = np.sum(ranges, axis=1)\n",
    "def inrange(seed):\n",
    "    \"\"\"Return True if the given seed is in the starting seed ranges\"\"\"\n",
    "    return np.sum((starts <= seed)*(seed < stops))"
   ]
  },
  {
   "cell_type": "code",
   "execution_count": 11,
   "metadata": {},
   "outputs": [
    {
     "data": {
      "text/plain": [
       "37806486"
      ]
     },
     "execution_count": 11,
     "metadata": {},
     "output_type": "execute_result"
    }
   ],
   "source": [
    "loc = 0\n",
    "while True:\n",
    "    if inrange(loc2seed(loc)):\n",
    "        break\n",
    "    loc += 1\n",
    "loc"
   ]
  }
 ],
 "metadata": {
  "kernelspec": {
   "display_name": "Python 3 (ipykernel)",
   "language": "python",
   "name": "python3"
  },
  "language_info": {
   "codemirror_mode": {
    "name": "ipython",
    "version": 3
   },
   "file_extension": ".py",
   "mimetype": "text/x-python",
   "name": "python",
   "nbconvert_exporter": "python",
   "pygments_lexer": "ipython3",
   "version": "3.8.6"
  }
 },
 "nbformat": 4,
 "nbformat_minor": 4
}
