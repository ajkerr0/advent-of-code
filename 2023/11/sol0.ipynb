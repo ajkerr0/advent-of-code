{
 "cells": [
  {
   "cell_type": "code",
   "execution_count": 1,
   "metadata": {},
   "outputs": [],
   "source": [
    "import numpy as np\n",
    "from scipy.spatial.distance import pdist"
   ]
  },
  {
   "cell_type": "code",
   "execution_count": 2,
   "metadata": {},
   "outputs": [],
   "source": [
    "inps = open('input').read().split('\\n')"
   ]
  },
  {
   "cell_type": "code",
   "execution_count": 3,
   "metadata": {},
   "outputs": [],
   "source": [
    "raw_arr = np.array([list(inp) for inp in inps[:-1]])"
   ]
  },
  {
   "cell_type": "code",
   "execution_count": 4,
   "metadata": {},
   "outputs": [],
   "source": [
    "arr = (raw_arr == '#').astype(int)"
   ]
  },
  {
   "cell_type": "code",
   "execution_count": 5,
   "metadata": {},
   "outputs": [],
   "source": [
    "farr = []\n",
    "for line in arr:\n",
    "\n",
    "    farr.append(line.tolist())\n",
    "    if np.sum(line) == 0:\n",
    "        farr.append(np.zeros(len(line), dtype=int))\n",
    "\n",
    "arr = np.array(farr).T\n",
    "farr = []\n",
    "for line in arr:\n",
    "\n",
    "    farr.append(line.tolist())\n",
    "    if np.sum(line) == 0:\n",
    "        farr.append(np.zeros(len(line), dtype=int))\n",
    "\n",
    "arr = np.array(farr).T"
   ]
  },
  {
   "cell_type": "code",
   "execution_count": 6,
   "metadata": {},
   "outputs": [],
   "source": [
    "where = np.zeros((np.sum(arr),2), dtype=int)\n",
    "where[:,0] = np.where(arr == 1)[0]\n",
    "where[:,1] = np.where(arr == 1)[1]"
   ]
  },
  {
   "cell_type": "code",
   "execution_count": 7,
   "metadata": {},
   "outputs": [
    {
     "data": {
      "text/plain": [
       "9545480.0"
      ]
     },
     "execution_count": 7,
     "metadata": {},
     "output_type": "execute_result"
    }
   ],
   "source": [
    "np.sum(pdist(where, metric='cityblock'))"
   ]
  },
  {
   "cell_type": "markdown",
   "metadata": {},
   "source": [
    "## Part 2"
   ]
  },
  {
   "cell_type": "code",
   "execution_count": 8,
   "metadata": {},
   "outputs": [],
   "source": [
    "arr = (raw_arr == '#').astype(int)"
   ]
  },
  {
   "cell_type": "code",
   "execution_count": 9,
   "metadata": {},
   "outputs": [],
   "source": [
    "where = np.zeros((np.sum(arr),2), dtype=int)\n",
    "where[:,0] = np.where(arr == 1)[0]\n",
    "where[:,1] = np.where(arr == 1)[1]"
   ]
  },
  {
   "cell_type": "code",
   "execution_count": 10,
   "metadata": {},
   "outputs": [],
   "source": [
    "ecols = np.where(np.sum(arr, axis=1) == 0)[0]"
   ]
  },
  {
   "cell_type": "code",
   "execution_count": 11,
   "metadata": {},
   "outputs": [],
   "source": [
    "erows = np.where(np.sum(arr, axis=0) == 0)[0]"
   ]
  },
  {
   "cell_type": "code",
   "execution_count": 12,
   "metadata": {},
   "outputs": [],
   "source": [
    "def dist(expansion):\n",
    "    dist = np.array([0], dtype=np.ulonglong)\n",
    "    for i,(xi,yi) in enumerate(where):\n",
    "        for j, (xj, yj) in enumerate(where):\n",
    "            if j > i:\n",
    "                xexp = 0\n",
    "                yexp = 0\n",
    "                for col in ecols:\n",
    "                    if ((col > xi)*(col < xj)) + ((col < xi)*(col > xj)):\n",
    "                        xexp += expansion - 1\n",
    "                for row in erows:\n",
    "                    if ((row > yi)*(row < yj)) + ((row < yi)*(row > yj)):\n",
    "                        yexp += expansion - 1\n",
    "                rij = abs(xi-xj) + xexp + abs(yi-yj) + yexp\n",
    "\n",
    "                dist += np.array([rij], dtype=np.ulonglong)\n",
    "\n",
    "    return dist       "
   ]
  },
  {
   "cell_type": "code",
   "execution_count": 13,
   "metadata": {},
   "outputs": [
    {
     "data": {
      "text/plain": [
       "array([9545480], dtype=uint64)"
      ]
     },
     "execution_count": 13,
     "metadata": {},
     "output_type": "execute_result"
    }
   ],
   "source": [
    "dist(2)"
   ]
  },
  {
   "cell_type": "code",
   "execution_count": 14,
   "metadata": {},
   "outputs": [
    {
     "data": {
      "text/plain": [
       "array([406725732046], dtype=uint64)"
      ]
     },
     "execution_count": 14,
     "metadata": {},
     "output_type": "execute_result"
    }
   ],
   "source": [
    "dist(int(1e6))"
   ]
  }
 ],
 "metadata": {
  "kernelspec": {
   "display_name": "Python 3 (ipykernel)",
   "language": "python",
   "name": "python3"
  },
  "language_info": {
   "codemirror_mode": {
    "name": "ipython",
    "version": 3
   },
   "file_extension": ".py",
   "mimetype": "text/x-python",
   "name": "python",
   "nbconvert_exporter": "python",
   "pygments_lexer": "ipython3",
   "version": "3.8.6"
  }
 },
 "nbformat": 4,
 "nbformat_minor": 4
}
