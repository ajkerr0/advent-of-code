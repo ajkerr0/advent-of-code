{
 "cells": [
  {
   "cell_type": "code",
   "execution_count": 1,
   "id": "feb26eb2-98ba-47e2-a7ed-d132b00252ea",
   "metadata": {},
   "outputs": [],
   "source": [
    "import numpy as np\n",
    "from scipy.spatial.distance import pdist"
   ]
  },
  {
   "cell_type": "code",
   "execution_count": 2,
   "id": "60c4abff-e245-4cca-bf6f-dc3140640ef6",
   "metadata": {},
   "outputs": [],
   "source": [
    "universe = np.array([list(x) for x in open('input').read().split('\\n')[:-1]])"
   ]
  },
  {
   "cell_type": "code",
   "execution_count": 3,
   "id": "061dfb59-fc13-452e-9a60-f1945327a858",
   "metadata": {},
   "outputs": [],
   "source": [
    "x = np.array([*np.where(universe == '#')]).T"
   ]
  },
  {
   "cell_type": "code",
   "execution_count": 4,
   "id": "f34be027-3ee8-4095-af4c-51ceae603228",
   "metadata": {},
   "outputs": [],
   "source": [
    "def solve(expansion):\n",
    "    return np.sum(pdist(np.array([(np.arange(universe.shape[0])+(expansion-1)*np.cumsum(np.sum(universe == '#', axis=1) == 0))[x[:,0]],\n",
    "                                  (np.arange(universe.shape[1])+(expansion-1)*np.cumsum(np.sum(universe == '#', axis=0) == 0))[x[:,1]]]).T,\n",
    "                        metric='cityblock')).astype(np.int64)"
   ]
  },
  {
   "cell_type": "code",
   "execution_count": 5,
   "id": "2b5f151e-f82d-4017-8604-aa7c07ea3338",
   "metadata": {},
   "outputs": [
    {
     "data": {
      "text/plain": [
       "9545480"
      ]
     },
     "execution_count": 5,
     "metadata": {},
     "output_type": "execute_result"
    }
   ],
   "source": [
    "solve(2)"
   ]
  },
  {
   "cell_type": "code",
   "execution_count": 6,
   "id": "c5c4f8e7-1a13-4588-a5e6-dd4fd99bc5f5",
   "metadata": {},
   "outputs": [
    {
     "data": {
      "text/plain": [
       "406725732046"
      ]
     },
     "execution_count": 6,
     "metadata": {},
     "output_type": "execute_result"
    }
   ],
   "source": [
    "solve(int(1e6))"
   ]
  }
 ],
 "metadata": {
  "kernelspec": {
   "display_name": "Python 3 (ipykernel)",
   "language": "python",
   "name": "python3"
  },
  "language_info": {
   "codemirror_mode": {
    "name": "ipython",
    "version": 3
   },
   "file_extension": ".py",
   "mimetype": "text/x-python",
   "name": "python",
   "nbconvert_exporter": "python",
   "pygments_lexer": "ipython3",
   "version": "3.8.6"
  }
 },
 "nbformat": 4,
 "nbformat_minor": 5
}
