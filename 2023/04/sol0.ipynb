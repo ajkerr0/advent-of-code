{
 "cells": [
  {
   "cell_type": "code",
   "execution_count": 1,
   "metadata": {},
   "outputs": [],
   "source": [
    "import csv\n",
    "\n",
    "import numpy as np"
   ]
  },
  {
   "cell_type": "code",
   "execution_count": 2,
   "metadata": {},
   "outputs": [
    {
     "data": {
      "text/plain": [
       "19855"
      ]
     },
     "execution_count": 2,
     "metadata": {},
     "output_type": "execute_result"
    }
   ],
   "source": [
    "points = 0\n",
    "with open('input') as f:\n",
    "    reader = csv.reader(f, delimiter='|')\n",
    "    for i, row in enumerate(reader):\n",
    "\n",
    "        win, hand = row\n",
    "        win = win.split(':',1)[1]\n",
    "        win = win.strip().split(' ')\n",
    "        hand = hand.strip().split(' ')\n",
    "\n",
    "        count = 0\n",
    "        for num in hand:\n",
    "\n",
    "            if num:\n",
    "                if num in win:\n",
    "                    count += 1\n",
    "\n",
    "        # points from card\n",
    "        if count == 0:\n",
    "            points += 0\n",
    "        else:\n",
    "            points += 2**(count-1)\n",
    "\n",
    "points"
   ]
  },
  {
   "cell_type": "markdown",
   "metadata": {},
   "source": [
    "### Part 2"
   ]
  },
  {
   "cell_type": "code",
   "execution_count": 3,
   "metadata": {},
   "outputs": [],
   "source": [
    "counts = []\n",
    "with open('input') as f:\n",
    "    reader = csv.reader(f, delimiter='|')\n",
    "    for i, row in enumerate(reader):\n",
    "\n",
    "        win, hand = row\n",
    "        win = win.split(':',1)[1]\n",
    "        win = win.strip().split(' ')\n",
    "        hand = hand.strip().split(' ')\n",
    "\n",
    "        count = 0\n",
    "        for num in hand:\n",
    "\n",
    "            if num:\n",
    "                if num in win:\n",
    "                    count += 1\n",
    "\n",
    "        # points from card\n",
    "        counts.append(count)"
   ]
  },
  {
   "cell_type": "code",
   "execution_count": 4,
   "metadata": {},
   "outputs": [],
   "source": [
    "cards = np.ones(len(counts), dtype=int)\n",
    "for i, count in enumerate(counts[:]):\n",
    "\n",
    "    add = np.zeros(len(counts), dtype=int)\n",
    "    add[i+1:i+count+1] = cards[i]\n",
    "    cards += add"
   ]
  },
  {
   "cell_type": "code",
   "execution_count": 5,
   "metadata": {},
   "outputs": [
    {
     "data": {
      "text/plain": [
       "10378710"
      ]
     },
     "execution_count": 5,
     "metadata": {},
     "output_type": "execute_result"
    }
   ],
   "source": [
    "np.sum(cards)"
   ]
  }
 ],
 "metadata": {
  "kernelspec": {
   "display_name": "Python 3 (ipykernel)",
   "language": "python",
   "name": "python3"
  },
  "language_info": {
   "codemirror_mode": {
    "name": "ipython",
    "version": 3
   },
   "file_extension": ".py",
   "mimetype": "text/x-python",
   "name": "python",
   "nbconvert_exporter": "python",
   "pygments_lexer": "ipython3",
   "version": "3.8.6"
  }
 },
 "nbformat": 4,
 "nbformat_minor": 4
}
