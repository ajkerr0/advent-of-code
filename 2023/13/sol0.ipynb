{
 "cells": [
  {
   "cell_type": "code",
   "execution_count": 1,
   "metadata": {},
   "outputs": [],
   "source": [
    "import numpy as np"
   ]
  },
  {
   "cell_type": "code",
   "execution_count": 2,
   "metadata": {},
   "outputs": [],
   "source": [
    "patterns = open('input').read().split('\\n\\n')"
   ]
  },
  {
   "cell_type": "code",
   "execution_count": 3,
   "metadata": {},
   "outputs": [],
   "source": [
    "pats = []\n",
    "for pat in patterns:\n",
    "    pats.append((np.array([list(x) for x in pat.splitlines()]) == '#').astype(int))"
   ]
  },
  {
   "cell_type": "code",
   "execution_count": 4,
   "metadata": {},
   "outputs": [],
   "source": [
    "def find_mirror_idx(pat):\n",
    "    for i in np.arange(1, pat.shape[0])[::1]:\n",
    "        cap = min(i, pat.shape[0] - i)\n",
    "        if np.sum(np.abs(pat[i-cap:i,:][::-1] - pat[i:i+cap,:])) == 0:\n",
    "            return i"
   ]
  },
  {
   "cell_type": "code",
   "execution_count": 5,
   "metadata": {},
   "outputs": [
    {
     "data": {
      "text/plain": [
       "36015"
      ]
     },
     "execution_count": 5,
     "metadata": {},
     "output_type": "execute_result"
    }
   ],
   "source": [
    "sum = 0\n",
    "for i, pat in enumerate(pats):\n",
    "\n",
    "    # horizontal\n",
    "    hidx = find_mirror_idx(pat)\n",
    "    vidx = find_mirror_idx(pat.T)\n",
    "    if hidx is not None:\n",
    "        sum += 100*hidx\n",
    "    elif vidx is not None:\n",
    "        sum += vidx\n",
    "sum"
   ]
  },
  {
   "cell_type": "markdown",
   "metadata": {},
   "source": [
    "## Part 2"
   ]
  },
  {
   "cell_type": "code",
   "execution_count": 6,
   "metadata": {},
   "outputs": [],
   "source": [
    "def find_mirror_idx2(pat):\n",
    "    # find vertical pattern index (hidx)\n",
    "    for i in np.arange(1, pat.shape[0])[::1]:\n",
    "        cap = min(i, pat.shape[0] - i)\n",
    "        if np.sum(np.abs(pat[i-cap:i,:][::-1] - pat[i:i+cap,:])) == 1:\n",
    "            return i"
   ]
  },
  {
   "cell_type": "code",
   "execution_count": 7,
   "metadata": {},
   "outputs": [
    {
     "data": {
      "text/plain": [
       "35335"
      ]
     },
     "execution_count": 7,
     "metadata": {},
     "output_type": "execute_result"
    }
   ],
   "source": [
    "sum = 0\n",
    "for i, pat in enumerate(pats):\n",
    "    hidx = find_mirror_idx2(pat)\n",
    "    vidx = find_mirror_idx2(pat.T)\n",
    "    if hidx is not None:\n",
    "        sum += 100*hidx\n",
    "    elif vidx is not None:\n",
    "        sum += vidx\n",
    "sum"
   ]
  }
 ],
 "metadata": {
  "kernelspec": {
   "display_name": "Python 3 (ipykernel)",
   "language": "python",
   "name": "python3"
  },
  "language_info": {
   "codemirror_mode": {
    "name": "ipython",
    "version": 3
   },
   "file_extension": ".py",
   "mimetype": "text/x-python",
   "name": "python",
   "nbconvert_exporter": "python",
   "pygments_lexer": "ipython3",
   "version": "3.8.6"
  }
 },
 "nbformat": 4,
 "nbformat_minor": 4
}
