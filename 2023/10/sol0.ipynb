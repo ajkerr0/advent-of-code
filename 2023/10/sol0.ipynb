{
 "cells": [
  {
   "cell_type": "code",
   "execution_count": 1,
   "metadata": {},
   "outputs": [],
   "source": [
    "inps = open('input').read().split('\\n')"
   ]
  },
  {
   "cell_type": "code",
   "execution_count": 2,
   "metadata": {},
   "outputs": [
    {
     "data": {
      "text/plain": [
       "(108, 36)"
      ]
     },
     "execution_count": 2,
     "metadata": {},
     "output_type": "execute_result"
    }
   ],
   "source": [
    "for i, line in enumerate(inps):\n",
    "    if 'S' in line:\n",
    "        j = line.index('S')\n",
    "        break\n",
    "START = (j,i)\n",
    "START"
   ]
  },
  {
   "cell_type": "code",
   "execution_count": 3,
   "metadata": {},
   "outputs": [],
   "source": [
    "maps = {\n",
    "    '|':((0,-1),(0,1)),\n",
    "    '-':((-1,0),(1,0)),\n",
    "    'L':((0,-1),(1,0)),\n",
    "    'J':((0,-1),(-1,0)),\n",
    "    '7':((0,1),(-1,0)),\n",
    "    'F':((0,1),(1,0)),\n",
    "}"
   ]
  },
  {
   "cell_type": "code",
   "execution_count": 4,
   "metadata": {},
   "outputs": [],
   "source": [
    "# manual start config by inspection\n",
    "start0 = ((107, 36), (-1,0))\n",
    "start1 = ((108, 37), (0,1))\n",
    "s_pipe = '7'"
   ]
  },
  {
   "cell_type": "code",
   "execution_count": 5,
   "metadata": {},
   "outputs": [
    {
     "data": {
      "text/plain": [
       "6768"
      ]
     },
     "execution_count": 5,
     "metadata": {},
     "output_type": "execute_result"
    }
   ],
   "source": [
    "path0 = [start0]\n",
    "start = start0\n",
    "while True:\n",
    "    pos, pdir = start\n",
    "    pipe = inps[pos[1]][pos[0]]\n",
    "    if pipe == 'S':\n",
    "        break\n",
    "    cons = maps[pipe]\n",
    "    if (-cons[0][0], -cons[0][1]) == pdir:\n",
    "        con = cons[1]\n",
    "    else:\n",
    "        con = cons[0]\n",
    "    # print(pipe, pos, pdir, con, cons)\n",
    "    start = ((pos[0] + con[0], pos[1] + con[1]), (con[0], con[1]))\n",
    "    # print(start)\n",
    "    path0.append(start)\n",
    "    \n",
    "len(path0)//2"
   ]
  },
  {
   "cell_type": "markdown",
   "metadata": {},
   "source": [
    "## Part 2"
   ]
  },
  {
   "cell_type": "markdown",
   "metadata": {},
   "source": [
    "Use Green's theorem for the area then subtract some thickness from the perimeter.  Add a value of 1 to account for a net corner turn of 4."
   ]
  },
  {
   "cell_type": "code",
   "execution_count": 6,
   "metadata": {},
   "outputs": [
    {
     "data": {
      "text/plain": [
       "-7118.0"
      ]
     },
     "execution_count": 6,
     "metadata": {},
     "output_type": "execute_result"
    }
   ],
   "source": [
    "area = 0\n",
    "start = start0\n",
    "to_break = False\n",
    "while True:\n",
    "    pos, pdir = start\n",
    "    pipe = inps[pos[1]][pos[0]]\n",
    "    if pipe == 'S':\n",
    "        to_break = True\n",
    "        pipe = s_pipe\n",
    "    cons = maps[pipe]\n",
    "    if (-cons[0][0], -cons[0][1]) == pdir:\n",
    "        con = cons[1]\n",
    "        con2 = cons[0]\n",
    "    else:\n",
    "        con = cons[0]\n",
    "        con2 = cons[1]\n",
    "    start = ((pos[0] + con[0], pos[1] + con[1]), (con[0], con[1]))\n",
    "\n",
    "    area += (pos[0])*con[1]/2\n",
    "    area += (pos[0])*-con2[1]/2\n",
    "    if to_break:\n",
    "        break\n",
    "    \n",
    "    \n",
    "area"
   ]
  },
  {
   "cell_type": "code",
   "execution_count": 7,
   "metadata": {},
   "outputs": [
    {
     "data": {
      "text/plain": [
       "351.0"
      ]
     },
     "execution_count": 7,
     "metadata": {},
     "output_type": "execute_result"
    }
   ],
   "source": [
    "abs(area) - len(path0)//2 + 1"
   ]
  }
 ],
 "metadata": {
  "kernelspec": {
   "display_name": "Python 3 (ipykernel)",
   "language": "python",
   "name": "python3"
  },
  "language_info": {
   "codemirror_mode": {
    "name": "ipython",
    "version": 3
   },
   "file_extension": ".py",
   "mimetype": "text/x-python",
   "name": "python",
   "nbconvert_exporter": "python",
   "pygments_lexer": "ipython3",
   "version": "3.8.6"
  }
 },
 "nbformat": 4,
 "nbformat_minor": 4
}
