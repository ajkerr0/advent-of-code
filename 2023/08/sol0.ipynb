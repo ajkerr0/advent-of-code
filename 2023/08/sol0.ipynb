{
 "cells": [
  {
   "cell_type": "code",
   "execution_count": 1,
   "metadata": {},
   "outputs": [],
   "source": [
    "import numpy as np\n",
    "import pandas as pd"
   ]
  },
  {
   "cell_type": "code",
   "execution_count": 2,
   "metadata": {},
   "outputs": [],
   "source": [
    "inps = open('input').read().split('\\n')"
   ]
  },
  {
   "cell_type": "code",
   "execution_count": 3,
   "metadata": {},
   "outputs": [],
   "source": [
    "rl = inps[0]"
   ]
  },
  {
   "cell_type": "code",
   "execution_count": 4,
   "metadata": {},
   "outputs": [],
   "source": [
    "maps = pd.Series(inps[2:-1]).str.extract(r'([A-Z]{3}).*?([A-Z]{3}).*?([A-Z]{3}).*')"
   ]
  },
  {
   "cell_type": "code",
   "execution_count": 5,
   "metadata": {},
   "outputs": [
    {
     "data": {
      "text/plain": [
       "11567"
      ]
     },
     "execution_count": 5,
     "metadata": {},
     "output_type": "execute_result"
    }
   ],
   "source": [
    "node = 'AAA'\n",
    "idx = maps.loc[maps[0] == node].index[0]\n",
    "i = 0\n",
    "while True:\n",
    "\n",
    "    if (node == 'ZZZ'):\n",
    "        break\n",
    "\n",
    "    cmd = rl[i % len(rl)]\n",
    "\n",
    "    if cmd == 'R':\n",
    "        node = maps[2].iloc[idx]\n",
    "    else:\n",
    "        node = maps[1].iloc[idx]\n",
    "    idx = maps.loc[maps[0] == node].index[0]\n",
    "\n",
    "    i += 1\n",
    "i"
   ]
  },
  {
   "cell_type": "markdown",
   "metadata": {},
   "source": [
    "## Part 2"
   ]
  },
  {
   "cell_type": "code",
   "execution_count": 6,
   "metadata": {},
   "outputs": [],
   "source": [
    "where = (maps[0].str.slice(2) == 'A')\n",
    "nodes = maps[where][0].tolist()"
   ]
  },
  {
   "cell_type": "code",
   "execution_count": 7,
   "metadata": {},
   "outputs": [
    {
     "data": {
      "text/plain": [
       "['AAA', 'BFA', 'VGA', 'DXA', 'VJA', 'BPA']"
      ]
     },
     "execution_count": 7,
     "metadata": {},
     "output_type": "execute_result"
    }
   ],
   "source": [
    "nodes"
   ]
  },
  {
   "cell_type": "code",
   "execution_count": 8,
   "metadata": {},
   "outputs": [],
   "source": [
    "def steps(node, i=0):\n",
    "    idx = maps.loc[maps[0] == node].index[0]\n",
    "    start_i = i\n",
    "    while True:\n",
    "    \n",
    "        if (node[2] == 'Z')*(i != start_i):\n",
    "            break\n",
    "    \n",
    "        cmd = rl[i % len(rl)]\n",
    "    \n",
    "        if cmd == 'R':\n",
    "            node = maps[2].iloc[idx]\n",
    "        else:\n",
    "            node = maps[1].iloc[idx]\n",
    "        idx = maps.loc[maps[0] == node].index[0]\n",
    "\n",
    "        i += 1\n",
    "    return i, node"
   ]
  },
  {
   "cell_type": "code",
   "execution_count": 9,
   "metadata": {},
   "outputs": [],
   "source": [
    "nodes2 = []\n",
    "i2s = []\n",
    "for node in nodes:\n",
    "    i, node2 = steps(node)\n",
    "    nodes2.append(node2)\n",
    "    i2s.append(i)"
   ]
  },
  {
   "cell_type": "code",
   "execution_count": 10,
   "metadata": {},
   "outputs": [
    {
     "name": "stdout",
     "output_type": "stream",
     "text": [
      "ZZZ 11567\n",
      "(23134, 'ZZZ')\n",
      "HRZ 21251\n",
      "(42502, 'HRZ')\n",
      "DGZ 12643\n",
      "(25286, 'DGZ')\n",
      "JVZ 16409\n",
      "(32818, 'JVZ')\n",
      "TMZ 19099\n",
      "(38198, 'TMZ')\n",
      "FBZ 14257\n",
      "(28514, 'FBZ')\n"
     ]
    }
   ],
   "source": [
    "for i2, node2 in zip(i2s, nodes2):\n",
    "    print(node2, i2)\n",
    "    print(steps(node2, i=i2))"
   ]
  },
  {
   "cell_type": "code",
   "execution_count": 11,
   "metadata": {},
   "outputs": [
    {
     "data": {
      "text/plain": [
       "9858474970153"
      ]
     },
     "execution_count": 11,
     "metadata": {},
     "output_type": "execute_result"
    }
   ],
   "source": [
    "np.lcm.reduce(np.array(i2s, np.int64))"
   ]
  }
 ],
 "metadata": {
  "kernelspec": {
   "display_name": "Python 3 (ipykernel)",
   "language": "python",
   "name": "python3"
  },
  "language_info": {
   "codemirror_mode": {
    "name": "ipython",
    "version": 3
   },
   "file_extension": ".py",
   "mimetype": "text/x-python",
   "name": "python",
   "nbconvert_exporter": "python",
   "pygments_lexer": "ipython3",
   "version": "3.8.6"
  }
 },
 "nbformat": 4,
 "nbformat_minor": 4
}
