{
 "cells": [
  {
   "cell_type": "code",
   "execution_count": 1,
   "metadata": {},
   "outputs": [],
   "source": [
    "import re\n",
    "\n",
    "import numpy as np\n",
    "import pandas as pd"
   ]
  },
  {
   "cell_type": "code",
   "execution_count": 2,
   "metadata": {},
   "outputs": [],
   "source": [
    "data = pd.read_csv('input', header=None, names=['line'])"
   ]
  },
  {
   "cell_type": "code",
   "execution_count": 3,
   "metadata": {},
   "outputs": [],
   "source": [
    "arr = []\n",
    "for idx, row in data.iterrows():\n",
    "    arr.append(row['line'])"
   ]
  },
  {
   "cell_type": "code",
   "execution_count": 4,
   "metadata": {},
   "outputs": [
    {
     "data": {
      "text/plain": [
       ".    15440\n",
       "7      394\n",
       "3      380\n",
       "6      373\n",
       "*      359\n",
       "4      355\n",
       "5      351\n",
       "9      349\n",
       "8      347\n",
       "2      324\n",
       "1      323\n",
       "0      246\n",
       "$       48\n",
       "%       45\n",
       "#       44\n",
       "/       41\n",
       "=       40\n",
       "&       38\n",
       "@       36\n",
       "-       36\n",
       "+       31\n",
       "Name: count, dtype: int64"
      ]
     },
     "execution_count": 4,
     "metadata": {},
     "output_type": "execute_result"
    }
   ],
   "source": [
    "pd.Series(np.array([list(x) for x in arr]).flatten()).value_counts()"
   ]
  },
  {
   "cell_type": "code",
   "execution_count": 5,
   "metadata": {},
   "outputs": [],
   "source": [
    "def get_num(span, line):\n",
    "    return int(line[span[0]:span[1]])"
   ]
  },
  {
   "cell_type": "code",
   "execution_count": 6,
   "metadata": {},
   "outputs": [],
   "source": [
    "sum = 0\n",
    "\n",
    "for i, line in enumerate(arr[:]):\n",
    "\n",
    "    regex = re.finditer(r'\\d{1,4}', line)\n",
    "    num_spans = [m.span() for m in regex]\n",
    "\n",
    "    if i > 0:\n",
    "        # check symbols above line\n",
    "        above_spans = [m.span() for m in re.finditer(r'[\\*\\$\\%\\#\\/\\=\\&\\@\\-\\+]{1}', arr[i-1])]\n",
    "    else:\n",
    "        above_spans = []\n",
    "    if i < len(arr) - 1:\n",
    "        # check symbols below line\n",
    "        below_spans = [m.span() for m in re.finditer(r'[\\*\\$\\%\\#\\/\\=\\&\\@\\-\\+]{1}', arr[i+1])]\n",
    "    else:\n",
    "        below_spans = []\n",
    "    same_spans = [m.span() for m in re.finditer(r'[\\*\\$\\%\\#\\/\\=\\&\\@\\-\\+]{1}', arr[i])]\n",
    "\n",
    "    \n",
    "    for m,n in num_spans:\n",
    "\n",
    "        is_part = 0\n",
    "\n",
    "        for a,b in same_spans:\n",
    "            is_part += (m == b)\n",
    "            is_part += (n == a)\n",
    "\n",
    "        for a,b in above_spans:\n",
    "            is_part += (b >= m)*(a <= n)\n",
    "\n",
    "        for a,b in below_spans:\n",
    "            is_part += (b >= m)*(a <= n)\n",
    "\n",
    "        if is_part > 0:\n",
    "            sum += get_num((m,n), line)"
   ]
  },
  {
   "cell_type": "code",
   "execution_count": 7,
   "metadata": {},
   "outputs": [
    {
     "data": {
      "text/plain": [
       "527364"
      ]
     },
     "execution_count": 7,
     "metadata": {},
     "output_type": "execute_result"
    }
   ],
   "source": [
    "sum"
   ]
  },
  {
   "cell_type": "markdown",
   "metadata": {},
   "source": [
    "### Part 2"
   ]
  },
  {
   "cell_type": "code",
   "execution_count": 8,
   "metadata": {},
   "outputs": [],
   "source": [
    "sum = 0\n",
    "\n",
    "for i, line in enumerate(arr[:]):\n",
    "\n",
    "    regex = re.finditer(r'\\*{1}', line)\n",
    "    gear_spans = [m.span() for m in regex]\n",
    "\n",
    "    if i > 0:\n",
    "        # check symbols above line\n",
    "        above_spans = [m.span() for m in re.finditer(r'\\d{1,4}', arr[i-1])]\n",
    "    else:\n",
    "        above_spans = []\n",
    "    if i < len(arr) - 1:\n",
    "        # check symbols below line\n",
    "        below_spans = [m.span() for m in re.finditer(r'\\d{1,4}', arr[i+1])]\n",
    "    else:\n",
    "        below_spans = []\n",
    "    same_spans = [m.span() for m in re.finditer(r'\\d{1,4}', arr[i])]\n",
    "\n",
    "    \n",
    "    for m,n in gear_spans:\n",
    "\n",
    "        neighbors = []\n",
    "\n",
    "        for a,b in same_spans:\n",
    "            if m==b:\n",
    "                neighbors.append(get_num((a,b), arr[i]))\n",
    "            if n==a:\n",
    "                neighbors.append(get_num((a,b), arr[i]))\n",
    "\n",
    "        for a,b in above_spans:\n",
    "            if (b >= m)*(a <= n):\n",
    "                neighbors.append(get_num((a,b), arr[i-1]))\n",
    "\n",
    "        for a,b in below_spans:\n",
    "            if (b >= m)*(a <= n):\n",
    "                neighbors.append(get_num((a,b), arr[i+1]))\n",
    "\n",
    "        if len(neighbors) == 2:\n",
    "            sum += neighbors[0]*neighbors[1]"
   ]
  },
  {
   "cell_type": "code",
   "execution_count": 9,
   "metadata": {},
   "outputs": [
    {
     "data": {
      "text/plain": [
       "79026871"
      ]
     },
     "execution_count": 9,
     "metadata": {},
     "output_type": "execute_result"
    }
   ],
   "source": [
    "sum"
   ]
  },
  {
   "cell_type": "code",
   "execution_count": null,
   "metadata": {},
   "outputs": [],
   "source": []
  }
 ],
 "metadata": {
  "kernelspec": {
   "display_name": "Python 3 (ipykernel)",
   "language": "python",
   "name": "python3"
  },
  "language_info": {
   "codemirror_mode": {
    "name": "ipython",
    "version": 3
   },
   "file_extension": ".py",
   "mimetype": "text/x-python",
   "name": "python",
   "nbconvert_exporter": "python",
   "pygments_lexer": "ipython3",
   "version": "3.8.6"
  }
 },
 "nbformat": 4,
 "nbformat_minor": 4
}
