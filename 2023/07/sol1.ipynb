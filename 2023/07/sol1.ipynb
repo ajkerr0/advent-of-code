{
 "cells": [
  {
   "cell_type": "code",
   "execution_count": 1,
   "metadata": {},
   "outputs": [],
   "source": [
    "import numpy as np\n",
    "import pandas as pd"
   ]
  },
  {
   "cell_type": "code",
   "execution_count": 2,
   "metadata": {},
   "outputs": [],
   "source": [
    "inps = open('input').read().split('\\n')[:-1]"
   ]
  },
  {
   "cell_type": "code",
   "execution_count": 3,
   "metadata": {},
   "outputs": [],
   "source": [
    "cards = ['A', 'K', 'Q', 'J', 'T', '9', '8', '7', '6', '5', '4', '3', '2']"
   ]
  },
  {
   "cell_type": "code",
   "execution_count": 4,
   "metadata": {},
   "outputs": [],
   "source": [
    "hands, bids = [], []\n",
    "for inp in inps:\n",
    "    hand, bid = inp.split()\n",
    "    hands.append(hand)\n",
    "    bids.append(int(bid))"
   ]
  },
  {
   "cell_type": "code",
   "execution_count": null,
   "metadata": {},
   "outputs": [],
   "source": []
  },
  {
   "cell_type": "code",
   "execution_count": 5,
   "metadata": {},
   "outputs": [
    {
     "data": {
      "text/plain": [
       "[41, 37, 31, 29, 23, 19, 17, 13, 11, 7, 5, 3, 2]"
      ]
     },
     "execution_count": 5,
     "metadata": {},
     "output_type": "execute_result"
    }
   ],
   "source": [
    "number = 100\n",
    "cscore = []\n",
    "for num in range(2,number + 1):\n",
    "       if num > 1:\n",
    "            for i in range(2,num):\n",
    "                if (num % i) == 0:\n",
    "                     break\n",
    "            else:\n",
    "                cscore.append(num)\n",
    "\n",
    "cscore = cscore[:len(cards)][::-1]\n",
    "cscore"
   ]
  },
  {
   "cell_type": "code",
   "execution_count": 6,
   "metadata": {},
   "outputs": [
    {
     "data": {
      "text/plain": [
       "array([12, 11, 10,  9,  8,  7,  6,  5,  4,  3,  2,  1,  0])"
      ]
     },
     "execution_count": 6,
     "metadata": {},
     "output_type": "execute_result"
    }
   ],
   "source": [
    "crank = np.arange(len(cards))[::-1]\n",
    "crank"
   ]
  },
  {
   "cell_type": "code",
   "execution_count": 7,
   "metadata": {},
   "outputs": [],
   "source": [
    "score_map = {}\n",
    "rank_map = {}\n",
    "for c, s, r in zip(cards, cscore, crank):\n",
    "    score_map[c] = s\n",
    "    rank_map[c] = r"
   ]
  },
  {
   "cell_type": "code",
   "execution_count": 8,
   "metadata": {},
   "outputs": [
    {
     "data": {
      "text/plain": [
       "{'A': 41,\n",
       " 'K': 37,\n",
       " 'Q': 31,\n",
       " 'J': 29,\n",
       " 'T': 23,\n",
       " '9': 19,\n",
       " '8': 17,\n",
       " '7': 13,\n",
       " '6': 11,\n",
       " '5': 7,\n",
       " '4': 5,\n",
       " '3': 3,\n",
       " '2': 2}"
      ]
     },
     "execution_count": 8,
     "metadata": {},
     "output_type": "execute_result"
    }
   ],
   "source": [
    "score_map"
   ]
  },
  {
   "cell_type": "code",
   "execution_count": 9,
   "metadata": {},
   "outputs": [
    {
     "data": {
      "text/plain": [
       "{'A': 12,\n",
       " 'K': 11,\n",
       " 'Q': 10,\n",
       " 'J': 9,\n",
       " 'T': 8,\n",
       " '9': 7,\n",
       " '8': 6,\n",
       " '7': 5,\n",
       " '6': 4,\n",
       " '5': 3,\n",
       " '4': 2,\n",
       " '3': 1,\n",
       " '2': 0}"
      ]
     },
     "execution_count": 9,
     "metadata": {},
     "output_type": "execute_result"
    }
   ],
   "source": [
    "rank_map"
   ]
  },
  {
   "cell_type": "code",
   "execution_count": 10,
   "metadata": {},
   "outputs": [],
   "source": [
    "s0s = []\n",
    "s1s = []\n",
    "s2s = []\n",
    "for hand in hands[:]:\n",
    "\n",
    "    s1 = 1\n",
    "    s2 = 0\n",
    "    freqs = []\n",
    "    for i, card in enumerate(hand):\n",
    "        s1 *= score_map[card]\n",
    "        s2 += rank_map[card]*len(cards)**(4-i)\n",
    "    for c in cards:\n",
    "        freqs.append(hand.count(c))\n",
    "\n",
    "    freqs = np.sort(freqs)[::-1][:5]\n",
    "    if freqs[0] == 1:\n",
    "        s0=1\n",
    "    elif (freqs[0] == 2)*(freqs[1] == 1):\n",
    "        s0=2\n",
    "    elif (freqs[0] == 2)*(freqs[1] == 2):\n",
    "        s0=3\n",
    "    elif (freqs[0] == 3)*(freqs[1] == 1):\n",
    "        s0=4\n",
    "    elif (freqs[0] == 3)*(freqs[1] == 2):\n",
    "        s0=5\n",
    "    elif (freqs[0] == 4):\n",
    "        s0=6\n",
    "    elif (freqs[0] == 5):\n",
    "        s0=7\n",
    "\n",
    "    s0s.append(s0)\n",
    "    s1s.append(s1)\n",
    "    s2s.append(s2)"
   ]
  },
  {
   "cell_type": "code",
   "execution_count": 11,
   "metadata": {},
   "outputs": [],
   "source": [
    "res = pd.DataFrame({\n",
    "    'hands': hands,\n",
    "    'bids': bids,\n",
    "    's0':s0s,\n",
    "    's1':s1s,\n",
    "    's2':s2s\n",
    "})\n",
    "res = res.sort_values(['s0', 's2'])\n",
    "res['ranks'] = np.arange(1, len(res)+1)"
   ]
  },
  {
   "cell_type": "code",
   "execution_count": 12,
   "metadata": {},
   "outputs": [
    {
     "data": {
      "text/plain": [
       "253313241"
      ]
     },
     "execution_count": 12,
     "metadata": {},
     "output_type": "execute_result"
    }
   ],
   "source": [
    "np.sum(res.bids*res.ranks)"
   ]
  },
  {
   "cell_type": "markdown",
   "metadata": {},
   "source": [
    "### Part 2"
   ]
  },
  {
   "cell_type": "code",
   "execution_count": 13,
   "metadata": {},
   "outputs": [],
   "source": [
    "cards = ['A', 'K', 'Q', 'T', '9', '8', '7', '6', '5', '4', '3', '2', 'J']"
   ]
  },
  {
   "cell_type": "code",
   "execution_count": 14,
   "metadata": {},
   "outputs": [],
   "source": [
    "score_map = {}\n",
    "rank_map = {}\n",
    "for c, s, r in zip(cards, cscore, crank):\n",
    "    score_map[c] = s\n",
    "    rank_map[c] = r"
   ]
  },
  {
   "cell_type": "code",
   "execution_count": 15,
   "metadata": {},
   "outputs": [],
   "source": [
    "s0s = []\n",
    "s1s = []\n",
    "s2s = []\n",
    "for hand in hands[:]:\n",
    "\n",
    "    s1 = 1\n",
    "    s2 = 0\n",
    "    freqs = []\n",
    "    for i, card in enumerate(hand):\n",
    "        s1 *= score_map[card]\n",
    "        s2 += rank_map[card]*len(cards)**(4-i)\n",
    "    for c in cards[:-1]:\n",
    "        freqs.append(hand.count(c))\n",
    "    jfreq = hand.count('J')\n",
    "    freqs = np.sort(freqs)[::-1][:5]\n",
    "    freqs[0] += jfreq\n",
    "    if freqs[0] == 1:\n",
    "        s0=1\n",
    "    elif (freqs[0] == 2)*(freqs[1] == 1):\n",
    "        s0=2\n",
    "    elif (freqs[0] == 2)*(freqs[1] == 2):\n",
    "        s0=3\n",
    "    elif (freqs[0] == 3)*(freqs[1] == 1):\n",
    "        s0=4\n",
    "    elif (freqs[0] == 3)*(freqs[1] == 2):\n",
    "        s0=5\n",
    "    elif (freqs[0] == 4):\n",
    "        s0=6\n",
    "    elif (freqs[0] == 5):\n",
    "        s0=7\n",
    "\n",
    "    s0s.append(s0)\n",
    "    s1s.append(s1)\n",
    "    s2s.append(s2)"
   ]
  },
  {
   "cell_type": "code",
   "execution_count": 16,
   "metadata": {},
   "outputs": [],
   "source": [
    "res = pd.DataFrame({\n",
    "    'hands': hands,\n",
    "    'bids': bids,\n",
    "    's0':s0s,\n",
    "    's1':s1s,\n",
    "    's2':s2s\n",
    "})\n",
    "res = res.sort_values(['s0', 's2'])\n",
    "res['ranks'] = np.arange(1, len(res)+1)"
   ]
  },
  {
   "cell_type": "code",
   "execution_count": 17,
   "metadata": {},
   "outputs": [
    {
     "data": {
      "text/plain": [
       "253362743"
      ]
     },
     "execution_count": 17,
     "metadata": {},
     "output_type": "execute_result"
    }
   ],
   "source": [
    "np.sum(res.bids*res.ranks)"
   ]
  }
 ],
 "metadata": {
  "kernelspec": {
   "display_name": "Python 3 (ipykernel)",
   "language": "python",
   "name": "python3"
  },
  "language_info": {
   "codemirror_mode": {
    "name": "ipython",
    "version": 3
   },
   "file_extension": ".py",
   "mimetype": "text/x-python",
   "name": "python",
   "nbconvert_exporter": "python",
   "pygments_lexer": "ipython3",
   "version": "3.8.6"
  }
 },
 "nbformat": 4,
 "nbformat_minor": 4
}
